{
 "cells": [
  {
   "cell_type": "markdown",
   "id": "a3c42005",
   "metadata": {},
   "source": [
    "# 1- PYTHON INTRODUCTION - (TASK - 1)\n",
    "I hope everybody install Anconda software which i share to you guys right\n",
    "Just wanted to know how many of know any programming language\n",
    "If you dont know any programming language then you are the best person to learn PYTHON\n",
    "python is very easy language\n",
    "what is python? Ans - python is highly recommanded programming language & object oriented language\n",
    "Father of python - Guido van Rosam\n",
    "Python came from fun tv show called ''complete monty python's flying circus'' - broadcasted in BBC channel\n",
    "Python borrowed all concept from c,c++,java,unix ( so python is everything) thats why python very very powerfull tool\n",
    "Python developed in NRI - (Netherland) & lot of people say that python is new language\n",
    "Java released on 1995. python was released on 1989 officialy released on (feb 20th 1991)\n",
    "It has a large and comprehensive standard library."
   ]
  },
  {
   "cell_type": "code",
   "execution_count": 2,
   "id": "4c7f4ebe",
   "metadata": {},
   "outputs": [
    {
     "data": {
      "text/plain": [
       "2"
      ]
     },
     "execution_count": 2,
     "metadata": {},
     "output_type": "execute_result"
    }
   ],
   "source": [
    "#int \n",
    "x=2\n",
    "x"
   ]
  },
  {
   "cell_type": "markdown",
   "id": "f39ba390",
   "metadata": {},
   "source": [
    "Now python is very popular based on software industry requirment because everybody wants to write very less code/concile code\n",
    "Current market trend is - Machine learing, Artificial intelligence, data science & Iot(Internet of things)\n",
    "which companies are used python - google,nasa,uber,netfliz,reddit,facebook, everywhere python used everywhere\n",
    "python code can understand everybody & python is dynamic programming language\n",
    "In python everything done by PVM (python virtual machine)\n",
    "you can access python in any platform independent- windows, linux, mac one code can run in all the 4 platform & no need to write separate programe for every platform. Once you write code you can run in platform\n",
    "Python is dynamically programming language (not required to declared data types)\n",
    "Python is freeware and open source. Moving from one platform to other platform without changeing any code\n",
    "Python contains rich libray - numpy,pandas so python is the best application for datascience\n",
    "which scenario python can't be used - ( python can not perform in mobile application like android )\n",
    "Flavours of python - cpython(C programming),jpython(java programming),Iron python(c#.net),Ruby python(Ruby based application programme),Anaconda python(Bigdata,datascience)\n",
    "Python 1.0 introduce in jan 1994 -- Noorganization is working now\n",
    "Python 2.0 introduce in oct 2000 -- Noorganization is working now\n",
    "Python 3.0 introduce in Dec 2008, 2016, 2017,---- latest version - 3.6, 3.6, 3.7, 3.8, 3.9, 3.10"
   ]
  },
  {
   "cell_type": "code",
   "execution_count": 3,
   "id": "3085ebc2",
   "metadata": {},
   "outputs": [
    {
     "data": {
      "text/plain": [
       "int"
      ]
     },
     "execution_count": 3,
     "metadata": {},
     "output_type": "execute_result"
    }
   ],
   "source": [
    "x=3\n",
    "type(x)"
   ]
  },
  {
   "cell_type": "markdown",
   "id": "197bc28a",
   "metadata": {},
   "source": [
    "# 2- Getting started with Python Language\n",
    "## Python 3.x\n",
    "### Version Release Date --->\n",
    "3.10 2021-10-04 3.9 2020-10-05 3.8 2020-04-29 3.7 2018-06-27 3.6 2016-12-23 3.5 2015-09-13 3.4 2014-03-17 3.3 2012-09-29 3.2 2011-02-20 3.1 2009-06-26 3.0 2008-12-03\n",
    "\n",
    "## Python 2.x\n",
    "### Version Release Date\n",
    "2.7 2010-07-03 2.6 2008-10-02 2.5 2006-09-19 2.4 2004-11-30 2.3 2003-07-29 2.2 2001-12-21 2.1 2001-04-15 2.0 2000-10-16"
   ]
  },
  {
   "cell_type": "markdown",
   "id": "66aa05f4",
   "metadata": {},
   "source": [
    "# Two major versions of Python are currently in active use:\n",
    "Python 3.x is the current version and is under active development.\n",
    "Python 2.x is the legacy version and will receive only security updates until 2020. No new features will be implemented.Note that many projects still use Python 2, although migrating to Python 3 is getting easier.\n",
    "If you want to learn python only then better you can use software called - python.org (below is url) https://www.python.org/downloads/\n",
    "For data science the best application for datascience models using python is called ANACONDA"
   ]
  },
  {
   "cell_type": "code",
   "execution_count": 4,
   "id": "392a5fb7",
   "metadata": {},
   "outputs": [
    {
     "data": {
      "text/plain": [
       "'3.10.9 | packaged by Anaconda, Inc. | (main, Mar  1 2023, 18:18:15) [MSC v.1916 64 bit (AMD64)]'"
      ]
     },
     "execution_count": 4,
     "metadata": {},
     "output_type": "execute_result"
    }
   ],
   "source": [
    "import sys\n",
    "sys.version"
   ]
  },
  {
   "cell_type": "markdown",
   "id": "0819acf4",
   "metadata": {},
   "source": [
    "# 3-Creating variables and assigning values\n",
    "To create a variable in Python, all you need to do is specify the variable name, and then assign a value to it.\n",
    "\n",
    "= Python uses = to assign values to variables There's no need to declare a variable in advance (or to assign a data type to it) Assigning a value to a variable itself declares and initializes the variable with that value. There's no way to declare a variable without assigning it an initial value."
   ]
  },
  {
   "cell_type": "code",
   "execution_count": 5,
   "id": "5de62bd7",
   "metadata": {},
   "outputs": [
    {
     "data": {
      "text/plain": [
       "int"
      ]
     },
     "execution_count": 5,
     "metadata": {},
     "output_type": "execute_result"
    }
   ],
   "source": [
    "a=5\n",
    "type(a)"
   ]
  },
  {
   "cell_type": "code",
   "execution_count": null,
   "id": "ef8efa4c",
   "metadata": {},
   "outputs": [],
   "source": []
  },
  {
   "cell_type": "code",
   "execution_count": 6,
   "id": "99e84837",
   "metadata": {},
   "outputs": [
    {
     "ename": "SyntaxError",
     "evalue": "cannot assign to literal here. Maybe you meant '==' instead of '='? (3490036055.py, line 1)",
     "output_type": "error",
     "traceback": [
      "\u001b[1;36m  Cell \u001b[1;32mIn[6], line 1\u001b[1;36m\u001b[0m\n\u001b[1;33m    6=a\u001b[0m\n\u001b[1;37m    ^\u001b[0m\n\u001b[1;31mSyntaxError\u001b[0m\u001b[1;31m:\u001b[0m cannot assign to literal here. Maybe you meant '==' instead of '='?\n"
     ]
    }
   ],
   "source": [
    "6=a\n"
   ]
  },
  {
   "cell_type": "code",
   "execution_count": 7,
   "id": "76a35a46",
   "metadata": {},
   "outputs": [
    {
     "data": {
      "text/plain": [
       "2"
      ]
     },
     "execution_count": 7,
     "metadata": {},
     "output_type": "execute_result"
    }
   ],
   "source": [
    "x=2\n",
    "x"
   ]
  },
  {
   "cell_type": "code",
   "execution_count": 8,
   "id": "8e66d080",
   "metadata": {},
   "outputs": [
    {
     "ename": "SyntaxError",
     "evalue": "invalid syntax (2570707854.py, line 2)",
     "output_type": "error",
     "traceback": [
      "\u001b[1;36m  Cell \u001b[1;32mIn[8], line 2\u001b[1;36m\u001b[0m\n\u001b[1;33m    x@\u001b[0m\n\u001b[1;37m      ^\u001b[0m\n\u001b[1;31mSyntaxError\u001b[0m\u001b[1;31m:\u001b[0m invalid syntax\n"
     ]
    }
   ],
   "source": [
    "x@=3\n",
    "x@"
   ]
  },
  {
   "cell_type": "code",
   "execution_count": 9,
   "id": "5503f885",
   "metadata": {},
   "outputs": [
    {
     "data": {
      "text/plain": [
       "int"
      ]
     },
     "execution_count": 9,
     "metadata": {},
     "output_type": "execute_result"
    }
   ],
   "source": [
    "#integer\n",
    "a=2\n",
    "type(a)"
   ]
  },
  {
   "cell_type": "code",
   "execution_count": 10,
   "id": "2435f472",
   "metadata": {},
   "outputs": [
    {
     "name": "stdout",
     "output_type": "stream",
     "text": [
      "9223372036\n"
     ]
    }
   ],
   "source": [
    "# Integer \n",
    "b = 9223372036\n",
    "print(b)"
   ]
  },
  {
   "cell_type": "code",
   "execution_count": 11,
   "id": "0b1fa71c",
   "metadata": {},
   "outputs": [
    {
     "data": {
      "text/plain": [
       "3.14"
      ]
     },
     "execution_count": 11,
     "metadata": {},
     "output_type": "execute_result"
    }
   ],
   "source": [
    "#floating point\n",
    "pi=3.14\n",
    "pi"
   ]
  },
  {
   "cell_type": "code",
   "execution_count": 12,
   "id": "47a7ca47",
   "metadata": {},
   "outputs": [
    {
     "data": {
      "text/plain": [
       "float"
      ]
     },
     "execution_count": 12,
     "metadata": {},
     "output_type": "execute_result"
    }
   ],
   "source": [
    "type(pi)"
   ]
  },
  {
   "cell_type": "code",
   "execution_count": 13,
   "id": "c6a2c5cf",
   "metadata": {},
   "outputs": [
    {
     "name": "stdout",
     "output_type": "stream",
     "text": [
      "b\n"
     ]
    },
    {
     "data": {
      "text/plain": [
       "str"
      ]
     },
     "execution_count": 13,
     "metadata": {},
     "output_type": "execute_result"
    }
   ],
   "source": [
    "#string\n",
    "a='b'\n",
    "print(a)\n",
    "type(a)"
   ]
  },
  {
   "cell_type": "code",
   "execution_count": 14,
   "id": "5e3e130e",
   "metadata": {},
   "outputs": [
    {
     "data": {
      "text/plain": [
       "'python'"
      ]
     },
     "execution_count": 14,
     "metadata": {},
     "output_type": "execute_result"
    }
   ],
   "source": [
    "a=\"python\"\n",
    "a"
   ]
  },
  {
   "cell_type": "code",
   "execution_count": 15,
   "id": "3b0497f6",
   "metadata": {},
   "outputs": [
    {
     "data": {
      "text/plain": [
       "str"
      ]
     },
     "execution_count": 15,
     "metadata": {},
     "output_type": "execute_result"
    }
   ],
   "source": [
    "type(a)"
   ]
  },
  {
   "cell_type": "code",
   "execution_count": 16,
   "id": "5a34f30a",
   "metadata": {},
   "outputs": [
    {
     "name": "stdout",
     "output_type": "stream",
     "text": [
      "python is a dynamically\n",
      "typed language\n"
     ]
    },
    {
     "data": {
      "text/plain": [
       "str"
      ]
     },
     "execution_count": 16,
     "metadata": {},
     "output_type": "execute_result"
    }
   ],
   "source": [
    "a='''python is a dynamically\n",
    "typed language'''\n",
    "print(a)\n",
    "type(a)"
   ]
  },
  {
   "cell_type": "code",
   "execution_count": 17,
   "id": "57d2930d",
   "metadata": {},
   "outputs": [
    {
     "data": {
      "text/plain": [
       "True"
      ]
     },
     "execution_count": 17,
     "metadata": {},
     "output_type": "execute_result"
    }
   ],
   "source": [
    "#boolean\n",
    "a=True\n",
    "a\n"
   ]
  },
  {
   "cell_type": "code",
   "execution_count": 18,
   "id": "ac3e05cb",
   "metadata": {},
   "outputs": [
    {
     "data": {
      "text/plain": [
       "bool"
      ]
     },
     "execution_count": 18,
     "metadata": {},
     "output_type": "execute_result"
    }
   ],
   "source": [
    "type(a)"
   ]
  },
  {
   "cell_type": "code",
   "execution_count": 19,
   "id": "88ebffb7",
   "metadata": {},
   "outputs": [
    {
     "name": "stdout",
     "output_type": "stream",
     "text": [
      "None\n"
     ]
    }
   ],
   "source": [
    "#null or None type\n",
    "x=None\n",
    "print(x)"
   ]
  },
  {
   "cell_type": "code",
   "execution_count": 20,
   "id": "11b99835",
   "metadata": {},
   "outputs": [
    {
     "data": {
      "text/plain": [
       "NoneType"
      ]
     },
     "execution_count": 20,
     "metadata": {},
     "output_type": "execute_result"
    }
   ],
   "source": [
    "type(x)"
   ]
  },
  {
   "cell_type": "code",
   "execution_count": 21,
   "id": "38a7501b",
   "metadata": {},
   "outputs": [],
   "source": [
    "#indentifiers\n"
   ]
  },
  {
   "cell_type": "code",
   "execution_count": 22,
   "id": "a36cadac",
   "metadata": {},
   "outputs": [
    {
     "data": {
      "text/plain": [
       "50"
      ]
     },
     "execution_count": 22,
     "metadata": {},
     "output_type": "execute_result"
    }
   ],
   "source": [
    "ABC=50\n",
    "ABC"
   ]
  },
  {
   "cell_type": "code",
   "execution_count": 23,
   "id": "73943e88",
   "metadata": {},
   "outputs": [
    {
     "data": {
      "text/plain": [
       "70"
      ]
     },
     "execution_count": 23,
     "metadata": {},
     "output_type": "execute_result"
    }
   ],
   "source": [
    "ABCD=70\n",
    "ABCD"
   ]
  },
  {
   "cell_type": "code",
   "execution_count": 24,
   "id": "6d930fdd",
   "metadata": {},
   "outputs": [
    {
     "data": {
      "text/plain": [
       "1500"
      ]
     },
     "execution_count": 24,
     "metadata": {},
     "output_type": "execute_result"
    }
   ],
   "source": [
    "NIT=1500\n",
    "NIT"
   ]
  },
  {
   "cell_type": "code",
   "execution_count": 25,
   "id": "f0bf0399",
   "metadata": {},
   "outputs": [
    {
     "ename": "NameError",
     "evalue": "name 'nit' is not defined",
     "output_type": "error",
     "traceback": [
      "\u001b[1;31m---------------------------------------------------------------------------\u001b[0m",
      "\u001b[1;31mNameError\u001b[0m                                 Traceback (most recent call last)",
      "Cell \u001b[1;32mIn[25], line 2\u001b[0m\n\u001b[0;32m      1\u001b[0m NIT\u001b[38;5;241m=\u001b[39m\u001b[38;5;241m15000\u001b[39m\n\u001b[1;32m----> 2\u001b[0m \u001b[43mnit\u001b[49m\n",
      "\u001b[1;31mNameError\u001b[0m: name 'nit' is not defined"
     ]
    }
   ],
   "source": [
    "NIT=15000\n",
    "nit"
   ]
  },
  {
   "cell_type": "code",
   "execution_count": null,
   "id": "3515ee68",
   "metadata": {},
   "outputs": [],
   "source": [
    "nIT=50\n",
    "jav"
   ]
  },
  {
   "cell_type": "markdown",
   "id": "e6f5b901",
   "metadata": {},
   "source": [
    "# 4-PYTHON ( IDENTIFIER / VARIBALE / OBJECT ) --\n",
    "There is a person whose name - Multiple names are to identify person.so finally the Name which can be used for identification purpose.\n",
    "Name in the python programme is called IDENTIFIER (x = 10) (X - identifier)\n",
    "*'''\n",
    "\n",
    "Nameing ceremoney we have some rules to naming a child . e.g - Gods name,Ancestor Name,have to do some R & D. you cannot keep the child name as - Cat or dog right.. so parent have to follow some rule and keep their child naming ceremony.\n",
    "*Rules to define Python Identifier & we will check those rules ==\n",
    "\n",
    "<1 Alphabet (uppercae & lowercase) <2> Digits (0-9) # should not stat with digit <3> underscore(_)"
   ]
  },
  {
   "cell_type": "code",
   "execution_count": null,
   "id": "b82eb318",
   "metadata": {},
   "outputs": [],
   "source": [
    "cash123=10\n",
    "cash123"
   ]
  },
  {
   "cell_type": "code",
   "execution_count": null,
   "id": "89fe31ec",
   "metadata": {},
   "outputs": [],
   "source": [
    "123cash=10\n",
    "123cash"
   ]
  },
  {
   "cell_type": "code",
   "execution_count": 26,
   "id": "91d598aa",
   "metadata": {},
   "outputs": [
    {
     "ename": "SyntaxError",
     "evalue": "invalid syntax (904644474.py, line 1)",
     "output_type": "error",
     "traceback": [
      "\u001b[1;36m  Cell \u001b[1;32mIn[26], line 1\u001b[1;36m\u001b[0m\n\u001b[1;33m    ca$h=10\u001b[0m\n\u001b[1;37m      ^\u001b[0m\n\u001b[1;31mSyntaxError\u001b[0m\u001b[1;31m:\u001b[0m invalid syntax\n"
     ]
    }
   ],
   "source": [
    "ca$h=10\n",
    "ca$h"
   ]
  },
  {
   "cell_type": "code",
   "execution_count": 27,
   "id": "5b0cec8c",
   "metadata": {},
   "outputs": [
    {
     "ename": "SyntaxError",
     "evalue": "cannot assign to expression here. Maybe you meant '==' instead of '='? (3247208676.py, line 1)",
     "output_type": "error",
     "traceback": [
      "\u001b[1;36m  Cell \u001b[1;32mIn[27], line 1\u001b[1;36m\u001b[0m\n\u001b[1;33m    ca*h=20\u001b[0m\n\u001b[1;37m    ^\u001b[0m\n\u001b[1;31mSyntaxError\u001b[0m\u001b[1;31m:\u001b[0m cannot assign to expression here. Maybe you meant '==' instead of '='?\n"
     ]
    }
   ],
   "source": [
    "ca*h=20\n",
    "ca*h"
   ]
  },
  {
   "cell_type": "code",
   "execution_count": 28,
   "id": "62c308ad",
   "metadata": {},
   "outputs": [
    {
     "ename": "NameError",
     "evalue": "name 'cash' is not defined",
     "output_type": "error",
     "traceback": [
      "\u001b[1;31m---------------------------------------------------------------------------\u001b[0m",
      "\u001b[1;31mNameError\u001b[0m                                 Traceback (most recent call last)",
      "Cell \u001b[1;32mIn[28], line 2\u001b[0m\n\u001b[0;32m      1\u001b[0m CASH\u001b[38;5;241m=\u001b[39m\u001b[38;5;241m20\u001b[39m\n\u001b[1;32m----> 2\u001b[0m \u001b[43mcash\u001b[49m\n",
      "\u001b[1;31mNameError\u001b[0m: name 'cash' is not defined"
     ]
    }
   ],
   "source": [
    "CASH=20\n",
    "cash #case sensitive"
   ]
  },
  {
   "cell_type": "code",
   "execution_count": 29,
   "id": "45934da0",
   "metadata": {},
   "outputs": [
    {
     "data": {
      "text/plain": [
       "20"
      ]
     },
     "execution_count": 29,
     "metadata": {},
     "output_type": "execute_result"
    }
   ],
   "source": [
    "CASH"
   ]
  },
  {
   "cell_type": "code",
   "execution_count": 30,
   "id": "e3a3023a",
   "metadata": {},
   "outputs": [
    {
     "data": {
      "text/plain": [
       "10"
      ]
     },
     "execution_count": 30,
     "metadata": {},
     "output_type": "execute_result"
    }
   ],
   "source": [
    "CASH1=10\n",
    "CASH1"
   ]
  },
  {
   "cell_type": "code",
   "execution_count": 31,
   "id": "50166e65",
   "metadata": {},
   "outputs": [
    {
     "ename": "SyntaxError",
     "evalue": "invalid decimal literal (4047554600.py, line 1)",
     "output_type": "error",
     "traceback": [
      "\u001b[1;36m  Cell \u001b[1;32mIn[31], line 1\u001b[1;36m\u001b[0m\n\u001b[1;33m    123TOTAL=30\u001b[0m\n\u001b[1;37m      ^\u001b[0m\n\u001b[1;31mSyntaxError\u001b[0m\u001b[1;31m:\u001b[0m invalid decimal literal\n"
     ]
    }
   ],
   "source": [
    "123TOTAL=30\n",
    "123TOTAL"
   ]
  },
  {
   "cell_type": "code",
   "execution_count": 32,
   "id": "6ef3e054",
   "metadata": {},
   "outputs": [
    {
     "ename": "NameError",
     "evalue": "name 'Abcd' is not defined",
     "output_type": "error",
     "traceback": [
      "\u001b[1;31m---------------------------------------------------------------------------\u001b[0m",
      "\u001b[1;31mNameError\u001b[0m                                 Traceback (most recent call last)",
      "Cell \u001b[1;32mIn[32], line 2\u001b[0m\n\u001b[0;32m      1\u001b[0m Abcde\u001b[38;5;241m=\u001b[39m\u001b[38;5;241m20\u001b[39m\n\u001b[1;32m----> 2\u001b[0m \u001b[38;5;28mtype\u001b[39m(\u001b[43mAbcd\u001b[49m)\n",
      "\u001b[1;31mNameError\u001b[0m: name 'Abcd' is not defined"
     ]
    }
   ],
   "source": [
    "Abcde=20\n",
    "type(Abcd)"
   ]
  },
  {
   "cell_type": "code",
   "execution_count": 33,
   "id": "3ecef462",
   "metadata": {},
   "outputs": [
    {
     "ename": "NameError",
     "evalue": "name 'New' is not defined",
     "output_type": "error",
     "traceback": [
      "\u001b[1;31m---------------------------------------------------------------------------\u001b[0m",
      "\u001b[1;31mNameError\u001b[0m                                 Traceback (most recent call last)",
      "Cell \u001b[1;32mIn[33], line 2\u001b[0m\n\u001b[0;32m      1\u001b[0m new\u001b[38;5;241m=\u001b[39m\u001b[38;5;241m30\u001b[39m\n\u001b[1;32m----> 2\u001b[0m \u001b[43mNew\u001b[49m\n",
      "\u001b[1;31mNameError\u001b[0m: name 'New' is not defined"
     ]
    }
   ],
   "source": [
    "new=30\n",
    "New"
   ]
  },
  {
   "cell_type": "code",
   "execution_count": 34,
   "id": "0c79c9c5",
   "metadata": {},
   "outputs": [
    {
     "ename": "NameError",
     "evalue": "name 'Total' is not defined",
     "output_type": "error",
     "traceback": [
      "\u001b[1;31m---------------------------------------------------------------------------\u001b[0m",
      "\u001b[1;31mNameError\u001b[0m                                 Traceback (most recent call last)",
      "Cell \u001b[1;32mIn[34], line 2\u001b[0m\n\u001b[0;32m      1\u001b[0m Total5\u001b[38;5;241m=\u001b[39m\u001b[38;5;241m15\u001b[39m\n\u001b[1;32m----> 2\u001b[0m \u001b[43mTotal\u001b[49m\n",
      "\u001b[1;31mNameError\u001b[0m: name 'Total' is not defined"
     ]
    }
   ],
   "source": [
    "Total5=15\n",
    "Total\n"
   ]
  },
  {
   "cell_type": "code",
   "execution_count": 35,
   "id": "0c8624bc",
   "metadata": {},
   "outputs": [
    {
     "data": {
      "text/plain": [
       "4"
      ]
     },
     "execution_count": 35,
     "metadata": {},
     "output_type": "execute_result"
    }
   ],
   "source": [
    "DEF=4\n",
    "DEF\n"
   ]
  },
  {
   "cell_type": "code",
   "execution_count": 36,
   "id": "9032e020",
   "metadata": {},
   "outputs": [
    {
     "ename": "SyntaxError",
     "evalue": "invalid syntax (2690521177.py, line 1)",
     "output_type": "error",
     "traceback": [
      "\u001b[1;36m  Cell \u001b[1;32mIn[36], line 1\u001b[1;36m\u001b[0m\n\u001b[1;33m    def=4.6 #def is a keyword\u001b[0m\n\u001b[1;37m       ^\u001b[0m\n\u001b[1;31mSyntaxError\u001b[0m\u001b[1;31m:\u001b[0m invalid syntax\n"
     ]
    }
   ],
   "source": [
    "def=4.6 #def is a keyword\n",
    "def"
   ]
  },
  {
   "cell_type": "code",
   "execution_count": 37,
   "id": "20fa894d",
   "metadata": {},
   "outputs": [
    {
     "data": {
      "text/plain": [
       "4"
      ]
     },
     "execution_count": 37,
     "metadata": {},
     "output_type": "execute_result"
    }
   ],
   "source": [
    "DEF=4\n",
    "DEF"
   ]
  },
  {
   "cell_type": "code",
   "execution_count": 38,
   "id": "a53cf621",
   "metadata": {},
   "outputs": [
    {
     "ename": "SyntaxError",
     "evalue": "invalid syntax (3092338201.py, line 1)",
     "output_type": "error",
     "traceback": [
      "\u001b[1;36m  Cell \u001b[1;32mIn[38], line 1\u001b[1;36m\u001b[0m\n\u001b[1;33m    if=700\u001b[0m\n\u001b[1;37m      ^\u001b[0m\n\u001b[1;31mSyntaxError\u001b[0m\u001b[1;31m:\u001b[0m invalid syntax\n"
     ]
    }
   ],
   "source": [
    "if=700\n",
    "if"
   ]
  },
  {
   "cell_type": "code",
   "execution_count": 39,
   "id": "081b80d3",
   "metadata": {},
   "outputs": [
    {
     "data": {
      "text/plain": [
       "5.6"
      ]
     },
     "execution_count": 39,
     "metadata": {},
     "output_type": "execute_result"
    }
   ],
   "source": [
    "DEF=5.6\n",
    "DEF"
   ]
  },
  {
   "cell_type": "code",
   "execution_count": 40,
   "id": "de7b2d45",
   "metadata": {},
   "outputs": [
    {
     "ename": "SyntaxError",
     "evalue": "invalid syntax (450655688.py, line 1)",
     "output_type": "error",
     "traceback": [
      "\u001b[1;36m  Cell \u001b[1;32mIn[40], line 1\u001b[1;36m\u001b[0m\n\u001b[1;33m    def=7\u001b[0m\n\u001b[1;37m       ^\u001b[0m\n\u001b[1;31mSyntaxError\u001b[0m\u001b[1;31m:\u001b[0m invalid syntax\n"
     ]
    }
   ],
   "source": [
    "def=7\n",
    "def"
   ]
  },
  {
   "cell_type": "code",
   "execution_count": 41,
   "id": "e3d57c83",
   "metadata": {},
   "outputs": [
    {
     "ename": "SyntaxError",
     "evalue": "invalid syntax (126121117.py, line 3)",
     "output_type": "error",
     "traceback": [
      "\u001b[1;36m  Cell \u001b[1;32mIn[41], line 3\u001b[1;36m\u001b[0m\n\u001b[1;33m    for = 50\u001b[0m\n\u001b[1;37m        ^\u001b[0m\n\u001b[1;31mSyntaxError\u001b[0m\u001b[1;31m:\u001b[0m invalid syntax\n"
     ]
    }
   ],
   "source": [
    "#if = 10   # if & def are keywords\n",
    "#DEF = 20 \n",
    "for = 50\n",
    "for"
   ]
  },
  {
   "cell_type": "code",
   "execution_count": 42,
   "id": "7ba9a4cb",
   "metadata": {},
   "outputs": [
    {
     "data": {
      "text/plain": [
       "50"
      ]
     },
     "execution_count": 42,
     "metadata": {},
     "output_type": "execute_result"
    }
   ],
   "source": [
    "FOR=50\n",
    "FOR"
   ]
  },
  {
   "cell_type": "code",
   "execution_count": 43,
   "id": "d9ffdcdb",
   "metadata": {},
   "outputs": [
    {
     "data": {
      "text/plain": [
       "43"
      ]
     },
     "execution_count": 43,
     "metadata": {},
     "output_type": "execute_result"
    }
   ],
   "source": [
    "IFFFFFFFFFFFFFFFFFFFFFFFFFFFFFFFFFFFFFFFFFG=43\n",
    "IFFFFFFFFFFFFFFFFFFFFFFFFFFFFFFFFFFFFFFFFFG"
   ]
  },
  {
   "cell_type": "code",
   "execution_count": 44,
   "id": "5a2ae521",
   "metadata": {},
   "outputs": [
    {
     "data": {
      "text/plain": [
       "20"
      ]
     },
     "execution_count": 44,
     "metadata": {},
     "output_type": "execute_result"
    }
   ],
   "source": [
    "_abc_def_gef=20 #only one special character _ character\n",
    "_abc_def_gef"
   ]
  },
  {
   "cell_type": "markdown",
   "id": "fb776872",
   "metadata": {},
   "source": [
    "# Q & A for valid / Invalid identifier - 1>123Abc 2>Abc123 3>ml2ai 4>_abc_def_gef 5>def 6>else 7>ELSE\n",
    "\n",
    "----- RULES OF PYTHON IDENTIFIER ------ 1> A to Z, a to z, 0 - 9 2> Doesnot starts with digit 3> Case sensitive 4> Reserved words or keywords cannot be a identifier 5> Identifier cannot have a lenght limit 6> _ only allowed 7> NO special character is allowed\n",
    "\n",
    "========================= WE LEARNT ABOUT PYTHON IDENTIFIER IN DETAILS ============================"
   ]
  },
  {
   "cell_type": "markdown",
   "id": "1095033b",
   "metadata": {},
   "source": [
    "# PYTHON RESERVED WORDS -\n",
    "if a kid going to school what he/she will learn A,B,C - - - -Z then she will learn A - APPLE, B -BALL, C - CAT. (APPLE,BALL,CAT - Reserved word in english)\n",
    "Apple is reserved for the fruit, Ball ==> play, Cat ==> Animal // (Dictionary uncountable reserved words is there).. This type of words are called Reserved word\n",
    "In any programming language there is a reserved word are there we gonna learn only python Reserved\n",
    "\n",
    "python reserved are => (35 RESERVED WORDS) If you learn 35 reserved words then python is complete\n",
    "\n",
    "all reserved words have some meaning & functionality\n",
    "Learning python is nothing but learing all this functionality"
   ]
  },
  {
   "cell_type": "markdown",
   "id": "268d823c",
   "metadata": {},
   "source": [
    "# **35 RESERVED WORDS---\n",
    "\n",
    "True, False, None ==> Represent Boolean data types\n",
    "and, or, not, is ==> Represent the operators\n",
    "if, else, elif ==> Represent the statement (# python switch,do..while statament is not available)\n",
    "while, for, break, continue, return, in, yield ==> Represent the loop concept\n",
    "try, except, finally, raise, assert ==> Represent for functionallity\n",
    "import,from,as,class,def,pass,global,nonlocal,lambda,del,with==>Represent the class,method,function\n",
    "*NOTES -- 35 RESERVED WORDS ARE (ALPHABET) // *EXCEPT (True,False,None)"
   ]
  },
  {
   "cell_type": "code",
   "execution_count": 45,
   "id": "1a73a0fa",
   "metadata": {},
   "outputs": [
    {
     "data": {
      "text/plain": [
       "True"
      ]
     },
     "execution_count": 45,
     "metadata": {},
     "output_type": "execute_result"
    }
   ],
   "source": [
    "a=True\n",
    "a"
   ]
  },
  {
   "cell_type": "code",
   "execution_count": 46,
   "id": "da4f16a9",
   "metadata": {},
   "outputs": [
    {
     "ename": "SyntaxError",
     "evalue": "cannot assign to True (3433981047.py, line 1)",
     "output_type": "error",
     "traceback": [
      "\u001b[1;36m  Cell \u001b[1;32mIn[46], line 1\u001b[1;36m\u001b[0m\n\u001b[1;33m    True=a\u001b[0m\n\u001b[1;37m    ^\u001b[0m\n\u001b[1;31mSyntaxError\u001b[0m\u001b[1;31m:\u001b[0m cannot assign to True\n"
     ]
    }
   ],
   "source": [
    "True=a\n",
    "True"
   ]
  },
  {
   "cell_type": "code",
   "execution_count": 47,
   "id": "9bf29a3b",
   "metadata": {},
   "outputs": [
    {
     "ename": "NameError",
     "evalue": "name 'true' is not defined",
     "output_type": "error",
     "traceback": [
      "\u001b[1;31m---------------------------------------------------------------------------\u001b[0m",
      "\u001b[1;31mNameError\u001b[0m                                 Traceback (most recent call last)",
      "Cell \u001b[1;32mIn[47], line 1\u001b[0m\n\u001b[1;32m----> 1\u001b[0m a1\u001b[38;5;241m=\u001b[39m\u001b[43mtrue\u001b[49m\n\u001b[0;32m      2\u001b[0m a1\n",
      "\u001b[1;31mNameError\u001b[0m: name 'true' is not defined"
     ]
    }
   ],
   "source": [
    "a1=true\n",
    "a1"
   ]
  },
  {
   "cell_type": "code",
   "execution_count": 48,
   "id": "50d78b74",
   "metadata": {},
   "outputs": [],
   "source": [
    "b=None\n",
    "b"
   ]
  },
  {
   "cell_type": "code",
   "execution_count": 49,
   "id": "68adfafc",
   "metadata": {},
   "outputs": [
    {
     "ename": "NameError",
     "evalue": "name 'none' is not defined",
     "output_type": "error",
     "traceback": [
      "\u001b[1;31m---------------------------------------------------------------------------\u001b[0m",
      "\u001b[1;31mNameError\u001b[0m                                 Traceback (most recent call last)",
      "Cell \u001b[1;32mIn[49], line 1\u001b[0m\n\u001b[1;32m----> 1\u001b[0m b\u001b[38;5;241m=\u001b[39m\u001b[43mnone\u001b[49m\n\u001b[0;32m      2\u001b[0m b\n",
      "\u001b[1;31mNameError\u001b[0m: name 'none' is not defined"
     ]
    }
   ],
   "source": [
    "b=none\n",
    "b"
   ]
  },
  {
   "cell_type": "code",
   "execution_count": 50,
   "id": "69f74461",
   "metadata": {},
   "outputs": [
    {
     "data": {
      "text/plain": [
       "False"
      ]
     },
     "execution_count": 50,
     "metadata": {},
     "output_type": "execute_result"
    }
   ],
   "source": [
    "c=False\n",
    "c"
   ]
  },
  {
   "cell_type": "code",
   "execution_count": 51,
   "id": "02f01327",
   "metadata": {},
   "outputs": [
    {
     "ename": "NameError",
     "evalue": "name 'keyword' is not defined",
     "output_type": "error",
     "traceback": [
      "\u001b[1;31m---------------------------------------------------------------------------\u001b[0m",
      "\u001b[1;31mNameError\u001b[0m                                 Traceback (most recent call last)",
      "Cell \u001b[1;32mIn[51], line 2\u001b[0m\n\u001b[0;32m      1\u001b[0m \u001b[38;5;28;01mimport\u001b[39;00m \u001b[38;5;21;01mpandas\u001b[39;00m \u001b[38;5;28;01mas\u001b[39;00m \u001b[38;5;21;01mpd\u001b[39;00m\n\u001b[1;32m----> 2\u001b[0m a\u001b[38;5;241m=\u001b[39mpd\u001b[38;5;241m.\u001b[39mDataFrame(\u001b[43mkeyword\u001b[49m\u001b[38;5;241m.\u001b[39mkwlist)\n\u001b[0;32m      3\u001b[0m a\n",
      "\u001b[1;31mNameError\u001b[0m: name 'keyword' is not defined"
     ]
    }
   ],
   "source": [
    "import pandas as pd\n",
    "a=pd.DataFrame(keyword.kwlist)\n",
    "a"
   ]
  },
  {
   "cell_type": "markdown",
   "id": "0c50eb9d",
   "metadata": {},
   "source": [
    "# PYTHON DATA TYPES // (14) - INBUILD DATA TYPES -\n",
    "1>int 2>float 3>complex 4>bool 5>str 6>bytes 7>bytearray DATA STRUCTURE ---> 8>range 9>list 10>tuple 11>set 12>frozenset 13>dict 14>None\n",
    "\n",
    "python provides some inbuild function like -- <1> print() <2> type() <3> id()\n",
    "\n",
    "int,float,complex,boolen is not represent object # Tricky question\n",
    "\n",
    "except these 4 everythig object # Tricky question\n",
    "NOTE - [**In python all 14 data types are object only]Thats why we called as python is object oriented program"
   ]
  },
  {
   "cell_type": "code",
   "execution_count": null,
   "id": "fbc0106d",
   "metadata": {},
   "outputs": [],
   "source": [
    "a=10\n",
    "print(a)\n",
    "id(a)"
   ]
  },
  {
   "cell_type": "code",
   "execution_count": null,
   "id": "8a262c22",
   "metadata": {},
   "outputs": [],
   "source": [
    "type(a)"
   ]
  },
  {
   "cell_type": "code",
   "execution_count": 52,
   "id": "cfe1d590",
   "metadata": {},
   "outputs": [
    {
     "data": {
      "text/plain": [
       "2100022608400"
      ]
     },
     "execution_count": 52,
     "metadata": {},
     "output_type": "execute_result"
    }
   ],
   "source": [
    "b=10\n",
    "id(b)"
   ]
  },
  {
   "cell_type": "code",
   "execution_count": 53,
   "id": "87697673",
   "metadata": {},
   "outputs": [
    {
     "data": {
      "text/plain": [
       "int"
      ]
     },
     "execution_count": 53,
     "metadata": {},
     "output_type": "execute_result"
    }
   ],
   "source": [
    "a=10\n",
    "b=10\n",
    "type(a)"
   ]
  },
  {
   "cell_type": "code",
   "execution_count": 54,
   "id": "6860c9c1",
   "metadata": {
    "scrolled": true
   },
   "outputs": [
    {
     "data": {
      "text/plain": [
       "2100022608400"
      ]
     },
     "execution_count": 54,
     "metadata": {},
     "output_type": "execute_result"
    }
   ],
   "source": [
    "id(a)"
   ]
  },
  {
   "cell_type": "code",
   "execution_count": 55,
   "id": "6b84ff1d",
   "metadata": {},
   "outputs": [
    {
     "data": {
      "text/plain": [
       "2100022608400"
      ]
     },
     "execution_count": 55,
     "metadata": {},
     "output_type": "execute_result"
    }
   ],
   "source": [
    "id(b)"
   ]
  },
  {
   "cell_type": "code",
   "execution_count": 56,
   "id": "b8275371",
   "metadata": {},
   "outputs": [
    {
     "data": {
      "text/plain": [
       "2100022608720"
      ]
     },
     "execution_count": 56,
     "metadata": {},
     "output_type": "execute_result"
    }
   ],
   "source": [
    "c=20\n",
    "id(c)"
   ]
  },
  {
   "cell_type": "markdown",
   "id": "f5fe2cba",
   "metadata": {},
   "source": [
    "# int datatypes -\n",
    "INT Datatypes - The No.without decimal point are called as INTEGRAL DATATYPES *int datatype how many ways represent values in 3ways -\n",
    "2> Binary form --- (Base-2) -- (0,1) 3> Octal form --- (Base-8) -- (0,7)"
   ]
  },
  {
   "cell_type": "code",
   "execution_count": 57,
   "id": "941673aa",
   "metadata": {},
   "outputs": [
    {
     "data": {
      "text/plain": [
       "int"
      ]
     },
     "execution_count": 57,
     "metadata": {},
     "output_type": "execute_result"
    }
   ],
   "source": [
    "a1=4809\n",
    "a1\n",
    "type(a1)"
   ]
  },
  {
   "cell_type": "code",
   "execution_count": 58,
   "id": "338425fb",
   "metadata": {},
   "outputs": [
    {
     "data": {
      "text/plain": [
       "'0b111'"
      ]
     },
     "execution_count": 58,
     "metadata": {},
     "output_type": "execute_result"
    }
   ],
   "source": [
    "#Binary format\n",
    "b=7\n",
    "bin(b)"
   ]
  },
  {
   "cell_type": "code",
   "execution_count": 59,
   "id": "2fb28565",
   "metadata": {},
   "outputs": [
    {
     "data": {
      "text/plain": [
       "5"
      ]
     },
     "execution_count": 59,
     "metadata": {},
     "output_type": "execute_result"
    }
   ],
   "source": [
    "b=0b101\n",
    "b"
   ]
  },
  {
   "cell_type": "code",
   "execution_count": 60,
   "id": "e58b1fdd",
   "metadata": {},
   "outputs": [
    {
     "data": {
      "text/plain": [
       "111"
      ]
     },
     "execution_count": 60,
     "metadata": {},
     "output_type": "execute_result"
    }
   ],
   "source": [
    "b1=111\n",
    "b1"
   ]
  },
  {
   "cell_type": "code",
   "execution_count": 61,
   "id": "4b75199f",
   "metadata": {},
   "outputs": [
    {
     "data": {
      "text/plain": [
       "15"
      ]
     },
     "execution_count": 61,
     "metadata": {},
     "output_type": "execute_result"
    }
   ],
   "source": [
    "c=0b1111\n",
    "c"
   ]
  },
  {
   "cell_type": "code",
   "execution_count": 62,
   "id": "b0c8c3f9",
   "metadata": {},
   "outputs": [
    {
     "ename": "NameError",
     "evalue": "name 'ob222' is not defined",
     "output_type": "error",
     "traceback": [
      "\u001b[1;31m---------------------------------------------------------------------------\u001b[0m",
      "\u001b[1;31mNameError\u001b[0m                                 Traceback (most recent call last)",
      "Cell \u001b[1;32mIn[62], line 1\u001b[0m\n\u001b[1;32m----> 1\u001b[0m b3\u001b[38;5;241m=\u001b[39m\u001b[43mob222\u001b[49m\n\u001b[0;32m      2\u001b[0m b3\n",
      "\u001b[1;31mNameError\u001b[0m: name 'ob222' is not defined"
     ]
    }
   ],
   "source": [
    "b3=ob222\n",
    "b3"
   ]
  },
  {
   "cell_type": "code",
   "execution_count": 63,
   "id": "7aa6d4ba",
   "metadata": {},
   "outputs": [
    {
     "data": {
      "text/plain": [
       "3"
      ]
     },
     "execution_count": 63,
     "metadata": {},
     "output_type": "execute_result"
    }
   ],
   "source": [
    "b=0b11\n",
    "b"
   ]
  },
  {
   "cell_type": "code",
   "execution_count": 64,
   "id": "10ed9168",
   "metadata": {},
   "outputs": [
    {
     "data": {
      "text/plain": [
       "'0o27'"
      ]
     },
     "execution_count": 64,
     "metadata": {},
     "output_type": "execute_result"
    }
   ],
   "source": [
    "#octal decimal\n",
    "a=23\n",
    "oct(a)"
   ]
  },
  {
   "cell_type": "code",
   "execution_count": 65,
   "id": "a1901542",
   "metadata": {},
   "outputs": [
    {
     "data": {
      "text/plain": [
       "73"
      ]
     },
     "execution_count": 65,
     "metadata": {},
     "output_type": "execute_result"
    }
   ],
   "source": [
    "b1=0o111\n",
    "b1"
   ]
  },
  {
   "cell_type": "code",
   "execution_count": 66,
   "id": "79a994b8",
   "metadata": {},
   "outputs": [
    {
     "data": {
      "text/plain": [
       "64"
      ]
     },
     "execution_count": 66,
     "metadata": {},
     "output_type": "execute_result"
    }
   ],
   "source": [
    "a=100\n",
    "b=0b10\n",
    "c=0o100\n",
    "a\n",
    "b\n",
    "c\n"
   ]
  },
  {
   "cell_type": "code",
   "execution_count": 67,
   "id": "22ee5a05",
   "metadata": {},
   "outputs": [
    {
     "data": {
      "text/plain": [
       "27"
      ]
     },
     "execution_count": 67,
     "metadata": {},
     "output_type": "execute_result"
    }
   ],
   "source": [
    "c1=0o33\n",
    "c1\n"
   ]
  },
  {
   "cell_type": "code",
   "execution_count": 68,
   "id": "4318027d",
   "metadata": {},
   "outputs": [
    {
     "data": {
      "text/plain": [
       "2"
      ]
     },
     "execution_count": 68,
     "metadata": {},
     "output_type": "execute_result"
    }
   ],
   "source": [
    "b"
   ]
  },
  {
   "cell_type": "code",
   "execution_count": 69,
   "id": "e9425d88",
   "metadata": {},
   "outputs": [
    {
     "data": {
      "text/plain": [
       "64"
      ]
     },
     "execution_count": 69,
     "metadata": {},
     "output_type": "execute_result"
    }
   ],
   "source": [
    "c"
   ]
  },
  {
   "cell_type": "code",
   "execution_count": 70,
   "id": "8de56065",
   "metadata": {},
   "outputs": [
    {
     "data": {
      "text/plain": [
       "int"
      ]
     },
     "execution_count": 70,
     "metadata": {},
     "output_type": "execute_result"
    }
   ],
   "source": [
    "A=78\n",
    "type(A)"
   ]
  },
  {
   "cell_type": "markdown",
   "id": "0099588a",
   "metadata": {},
   "source": [
    "# float datatypes -\n",
    "employee sal - 5676.76diesel price - 67.25\n",
    "\n",
    "These values are not integral value this is called as decimal value\n",
    "Floating datatype you cannot declare Binary,Octal & Hexadecimal because python enterpretur not accept that\n",
    "In our schools we learn about EXPONTIAL form -(1.2e3) this you can find in float datatypes & only letter 'e' can allowed"
   ]
  },
  {
   "cell_type": "code",
   "execution_count": 71,
   "id": "6bcd569c",
   "metadata": {},
   "outputs": [
    {
     "data": {
      "text/plain": [
       "float"
      ]
     },
     "execution_count": 71,
     "metadata": {},
     "output_type": "execute_result"
    }
   ],
   "source": [
    " b=6.7\n",
    "type(b)"
   ]
  },
  {
   "cell_type": "code",
   "execution_count": 72,
   "id": "0748045e",
   "metadata": {},
   "outputs": [
    {
     "ename": "SyntaxError",
     "evalue": "invalid syntax (4220754326.py, line 1)",
     "output_type": "error",
     "traceback": [
      "\u001b[1;36m  Cell \u001b[1;32mIn[72], line 1\u001b[1;36m\u001b[0m\n\u001b[1;33m    c=0o11.6\u001b[0m\n\u001b[1;37m          ^\u001b[0m\n\u001b[1;31mSyntaxError\u001b[0m\u001b[1;31m:\u001b[0m invalid syntax\n"
     ]
    }
   ],
   "source": [
    "c=0o11.6\n",
    "c"
   ]
  },
  {
   "cell_type": "code",
   "execution_count": 73,
   "id": "8d57713d",
   "metadata": {},
   "outputs": [
    {
     "ename": "SyntaxError",
     "evalue": "invalid syntax (4123692578.py, line 1)",
     "output_type": "error",
     "traceback": [
      "\u001b[1;36m  Cell \u001b[1;32mIn[73], line 1\u001b[1;36m\u001b[0m\n\u001b[1;33m    b1=0o11.22\u001b[0m\n\u001b[1;37m           ^\u001b[0m\n\u001b[1;31mSyntaxError\u001b[0m\u001b[1;31m:\u001b[0m invalid syntax\n"
     ]
    }
   ],
   "source": [
    "b1=0o11.22\n",
    "print(type(b))\n",
    "type(b1)"
   ]
  },
  {
   "cell_type": "code",
   "execution_count": 74,
   "id": "71a1b540",
   "metadata": {},
   "outputs": [
    {
     "ename": "SyntaxError",
     "evalue": "invalid syntax (1313166412.py, line 1)",
     "output_type": "error",
     "traceback": [
      "\u001b[1;36m  Cell \u001b[1;32mIn[74], line 1\u001b[1;36m\u001b[0m\n\u001b[1;33m    d=0o4567.67\u001b[0m\n\u001b[1;37m            ^\u001b[0m\n\u001b[1;31mSyntaxError\u001b[0m\u001b[1;31m:\u001b[0m invalid syntax\n"
     ]
    }
   ],
   "source": [
    "d=0o4567.67\n",
    "d"
   ]
  },
  {
   "cell_type": "code",
   "execution_count": 75,
   "id": "903900d5",
   "metadata": {},
   "outputs": [
    {
     "ename": "SyntaxError",
     "evalue": "invalid digit '4' in binary literal (2545187644.py, line 1)",
     "output_type": "error",
     "traceback": [
      "\u001b[1;36m  Cell \u001b[1;32mIn[75], line 1\u001b[1;36m\u001b[0m\n\u001b[1;33m    e=0b4567.89\u001b[0m\n\u001b[1;37m        ^\u001b[0m\n\u001b[1;31mSyntaxError\u001b[0m\u001b[1;31m:\u001b[0m invalid digit '4' in binary literal\n"
     ]
    }
   ],
   "source": [
    "e=0b4567.89\n",
    "e"
   ]
  },
  {
   "cell_type": "code",
   "execution_count": 76,
   "id": "a551953b",
   "metadata": {},
   "outputs": [
    {
     "data": {
      "text/plain": [
       "10.0"
      ]
     },
     "execution_count": 76,
     "metadata": {},
     "output_type": "execute_result"
    }
   ],
   "source": [
    "f1=1E1\n",
    "f1"
   ]
  },
  {
   "cell_type": "code",
   "execution_count": 77,
   "id": "cf1e3873",
   "metadata": {},
   "outputs": [
    {
     "data": {
      "text/plain": [
       "float"
      ]
     },
     "execution_count": 77,
     "metadata": {},
     "output_type": "execute_result"
    }
   ],
   "source": [
    "type(f1)"
   ]
  },
  {
   "cell_type": "code",
   "execution_count": 78,
   "id": "314c4ade",
   "metadata": {},
   "outputs": [
    {
     "data": {
      "text/plain": [
       "2400.0"
      ]
     },
     "execution_count": 78,
     "metadata": {},
     "output_type": "execute_result"
    }
   ],
   "source": [
    "#f = 1e3 # only 'e' letter is allowed\n",
    "g=2.4E3 # except 'E' you can't execute any programme\n",
    "g"
   ]
  },
  {
   "cell_type": "code",
   "execution_count": 79,
   "id": "bfa7fbac",
   "metadata": {},
   "outputs": [
    {
     "data": {
      "text/plain": [
       "10000.0"
      ]
     },
     "execution_count": 79,
     "metadata": {},
     "output_type": "execute_result"
    }
   ],
   "source": [
    "f=1e4\n",
    "f"
   ]
  },
  {
   "cell_type": "code",
   "execution_count": 80,
   "id": "a5abb226",
   "metadata": {},
   "outputs": [
    {
     "data": {
      "text/plain": [
       "float"
      ]
     },
     "execution_count": 80,
     "metadata": {},
     "output_type": "execute_result"
    }
   ],
   "source": [
    "type(g)"
   ]
  },
  {
   "cell_type": "markdown",
   "id": "de5ef740",
   "metadata": {},
   "source": [
    "# complex datatypes -\n",
    "Complex datatype format are:-(a+bj) (a--Real part/b--Imaginary part/j^2=-1)\n",
    "j is the compulsory value & there is no other value accepted in complex type\n",
    "j^2 = -1\n",
    "Value of j is (j square is equal to -1) (j =(square root of -1) is equal to (j^2 = -1) pure mathemetics so if you want to develop mathmetic application or scientific application then python is the best option\n",
    "Real type any type base can be accepted but imaginary part allow only integer"
   ]
  },
  {
   "cell_type": "code",
   "execution_count": 81,
   "id": "680410bf",
   "metadata": {},
   "outputs": [
    {
     "data": {
      "text/plain": [
       "(30+40j)"
      ]
     },
     "execution_count": 81,
     "metadata": {},
     "output_type": "execute_result"
    }
   ],
   "source": [
    "X=30+40j\n",
    "X"
   ]
  },
  {
   "cell_type": "code",
   "execution_count": 82,
   "id": "9b8587ac",
   "metadata": {},
   "outputs": [
    {
     "data": {
      "text/plain": [
       "complex"
      ]
     },
     "execution_count": 82,
     "metadata": {},
     "output_type": "execute_result"
    }
   ],
   "source": [
    "type(X)"
   ]
  },
  {
   "cell_type": "code",
   "execution_count": 83,
   "id": "f639d748",
   "metadata": {},
   "outputs": [
    {
     "data": {
      "text/plain": [
       "(40+45j)"
      ]
     },
     "execution_count": 83,
     "metadata": {},
     "output_type": "execute_result"
    }
   ],
   "source": [
    "y=10+20j\n",
    "z=30+25j\n",
    "y+z"
   ]
  },
  {
   "cell_type": "code",
   "execution_count": 84,
   "id": "6b31fe95",
   "metadata": {},
   "outputs": [
    {
     "data": {
      "text/plain": [
       "(-200+850j)"
      ]
     },
     "execution_count": 84,
     "metadata": {},
     "output_type": "execute_result"
    }
   ],
   "source": [
    "y*z"
   ]
  },
  {
   "cell_type": "code",
   "execution_count": 85,
   "id": "db205504",
   "metadata": {},
   "outputs": [
    {
     "data": {
      "text/plain": [
       "(0.5245901639344263+0.22950819672131145j)"
      ]
     },
     "execution_count": 85,
     "metadata": {},
     "output_type": "execute_result"
    }
   ],
   "source": [
    "y/z"
   ]
  },
  {
   "cell_type": "code",
   "execution_count": 86,
   "id": "4cd20aeb",
   "metadata": {},
   "outputs": [
    {
     "ename": "SyntaxError",
     "evalue": "invalid binary literal (1577396516.py, line 1)",
     "output_type": "error",
     "traceback": [
      "\u001b[1;36m  Cell \u001b[1;32mIn[86], line 1\u001b[1;36m\u001b[0m\n\u001b[1;33m    c=15+0b111j\u001b[0m\n\u001b[1;37m             ^\u001b[0m\n\u001b[1;31mSyntaxError\u001b[0m\u001b[1;31m:\u001b[0m invalid binary literal\n"
     ]
    }
   ],
   "source": [
    "c=15+0b111j\n",
    "c"
   ]
  },
  {
   "cell_type": "code",
   "execution_count": 87,
   "id": "b1884cc4",
   "metadata": {},
   "outputs": [
    {
     "data": {
      "text/plain": [
       "(3+15j)"
      ]
     },
     "execution_count": 87,
     "metadata": {},
     "output_type": "execute_result"
    }
   ],
   "source": [
    "d=0b11+15j\n",
    "d"
   ]
  },
  {
   "cell_type": "code",
   "execution_count": 88,
   "id": "82369654",
   "metadata": {},
   "outputs": [
    {
     "data": {
      "text/plain": [
       "(7+15j)"
      ]
     },
     "execution_count": 88,
     "metadata": {},
     "output_type": "execute_result"
    }
   ],
   "source": [
    "d2=0b111+15j\n",
    "d2"
   ]
  },
  {
   "cell_type": "code",
   "execution_count": 89,
   "id": "94f1ac55",
   "metadata": {},
   "outputs": [
    {
     "ename": "SyntaxError",
     "evalue": "invalid decimal literal (4049444539.py, line 1)",
     "output_type": "error",
     "traceback": [
      "\u001b[1;36m  Cell \u001b[1;32mIn[89], line 1\u001b[1;36m\u001b[0m\n\u001b[1;33m    a1=4+15a\u001b[0m\n\u001b[1;37m          ^\u001b[0m\n\u001b[1;31mSyntaxError\u001b[0m\u001b[1;31m:\u001b[0m invalid decimal literal\n"
     ]
    }
   ],
   "source": [
    "a1=4+15a\n",
    "a1"
   ]
  },
  {
   "cell_type": "code",
   "execution_count": 90,
   "id": "21719f73",
   "metadata": {},
   "outputs": [],
   "source": [
    "c1=20+30j\n",
    "d1=40+50j"
   ]
  },
  {
   "cell_type": "code",
   "execution_count": 91,
   "id": "382d5122",
   "metadata": {},
   "outputs": [
    {
     "data": {
      "text/plain": [
       "(60+80j)"
      ]
     },
     "execution_count": 91,
     "metadata": {},
     "output_type": "execute_result"
    }
   ],
   "source": [
    "c1+d1\n"
   ]
  },
  {
   "cell_type": "code",
   "execution_count": 92,
   "id": "b06749ae",
   "metadata": {},
   "outputs": [
    {
     "data": {
      "text/plain": [
       "(-700+2200j)"
      ]
     },
     "execution_count": 92,
     "metadata": {},
     "output_type": "execute_result"
    }
   ],
   "source": [
    "c1*d1"
   ]
  },
  {
   "cell_type": "code",
   "execution_count": 93,
   "id": "fb4f787a",
   "metadata": {},
   "outputs": [
    {
     "data": {
      "text/plain": [
       "(-20-20j)"
      ]
     },
     "execution_count": 93,
     "metadata": {},
     "output_type": "execute_result"
    }
   ],
   "source": [
    "c1-d1"
   ]
  },
  {
   "cell_type": "code",
   "execution_count": 94,
   "id": "12e6ffba",
   "metadata": {},
   "outputs": [
    {
     "data": {
      "text/plain": [
       "(0.5609756097560976+0.04878048780487805j)"
      ]
     },
     "execution_count": 94,
     "metadata": {},
     "output_type": "execute_result"
    }
   ],
   "source": [
    "c1/d1\n"
   ]
  },
  {
   "cell_type": "code",
   "execution_count": 95,
   "id": "2818a1db",
   "metadata": {},
   "outputs": [
    {
     "data": {
      "text/plain": [
       "complex"
      ]
     },
     "execution_count": 95,
     "metadata": {},
     "output_type": "execute_result"
    }
   ],
   "source": [
    "a=2+3j\n",
    "type(a)"
   ]
  },
  {
   "cell_type": "code",
   "execution_count": 96,
   "id": "2342d632",
   "metadata": {},
   "outputs": [
    {
     "data": {
      "text/plain": [
       "30.0"
      ]
     },
     "execution_count": 96,
     "metadata": {},
     "output_type": "execute_result"
    }
   ],
   "source": [
    "a1=25+30j\n",
    "a1.imag"
   ]
  },
  {
   "cell_type": "code",
   "execution_count": 97,
   "id": "8c7ebedb",
   "metadata": {},
   "outputs": [
    {
     "data": {
      "text/plain": [
       "25.0"
      ]
     },
     "execution_count": 97,
     "metadata": {},
     "output_type": "execute_result"
    }
   ],
   "source": [
    "a1.real"
   ]
  },
  {
   "cell_type": "code",
   "execution_count": 98,
   "id": "227457c2",
   "metadata": {},
   "outputs": [
    {
     "ename": "SyntaxError",
     "evalue": "invalid syntax (3109406533.py, line 1)",
     "output_type": "error",
     "traceback": [
      "\u001b[1;36m  Cell \u001b[1;32mIn[98], line 1\u001b[1;36m\u001b[0m\n\u001b[1;33m    bool data types\u001b[0m\n\u001b[1;37m         ^\u001b[0m\n\u001b[1;31mSyntaxError\u001b[0m\u001b[1;31m:\u001b[0m invalid syntax\n"
     ]
    }
   ],
   "source": [
    "bool data types\n"
   ]
  },
  {
   "cell_type": "code",
   "execution_count": 99,
   "id": "ea39347b",
   "metadata": {},
   "outputs": [
    {
     "data": {
      "text/plain": [
       "False"
      ]
     },
     "execution_count": 99,
     "metadata": {},
     "output_type": "execute_result"
    }
   ],
   "source": [
    "a = 10\n",
    "b = 20\n",
    "c = a>b\n",
    "c"
   ]
  },
  {
   "cell_type": "code",
   "execution_count": 100,
   "id": "52453817",
   "metadata": {},
   "outputs": [
    {
     "data": {
      "text/plain": [
       "bool"
      ]
     },
     "execution_count": 100,
     "metadata": {},
     "output_type": "execute_result"
    }
   ],
   "source": [
    "type(c)"
   ]
  },
  {
   "cell_type": "code",
   "execution_count": 101,
   "id": "63549da5",
   "metadata": {},
   "outputs": [
    {
     "ename": "ZeroDivisionError",
     "evalue": "division by zero",
     "output_type": "error",
     "traceback": [
      "\u001b[1;31m---------------------------------------------------------------------------\u001b[0m",
      "\u001b[1;31mZeroDivisionError\u001b[0m                         Traceback (most recent call last)",
      "Cell \u001b[1;32mIn[101], line 4\u001b[0m\n\u001b[0;32m      2\u001b[0m \u001b[38;5;28;01mTrue\u001b[39;00m\u001b[38;5;241m+\u001b[39m\u001b[38;5;28;01mFalse\u001b[39;00m\n\u001b[0;32m      3\u001b[0m \u001b[38;5;28;01mTrue\u001b[39;00m\u001b[38;5;241m*\u001b[39m\u001b[38;5;28;01mTrue\u001b[39;00m\n\u001b[1;32m----> 4\u001b[0m \u001b[38;5;28;43;01mTrue\u001b[39;49;00m\u001b[38;5;241;43m/\u001b[39;49m\u001b[38;5;28;43;01mFalse\u001b[39;49;00m\n\u001b[0;32m      5\u001b[0m \u001b[38;5;28;01mFalse\u001b[39;00m\u001b[38;5;241m+\u001b[39m\u001b[38;5;28;01mFalse\u001b[39;00m\n\u001b[0;32m      6\u001b[0m \u001b[38;5;28;01mTrue\u001b[39;00m\u001b[38;5;241m-\u001b[39m\u001b[38;5;28;01mTrue\u001b[39;00m\n",
      "\u001b[1;31mZeroDivisionError\u001b[0m: division by zero"
     ]
    }
   ],
   "source": [
    "True+True\n",
    "True+False\n",
    "True*True\n",
    "True/False\n",
    "False+False\n",
    "True-True\n",
    "True-False"
   ]
  },
  {
   "cell_type": "code",
   "execution_count": 102,
   "id": "8694337a",
   "metadata": {},
   "outputs": [
    {
     "data": {
      "text/plain": [
       "2"
      ]
     },
     "execution_count": 102,
     "metadata": {},
     "output_type": "execute_result"
    }
   ],
   "source": [
    "True+True"
   ]
  },
  {
   "cell_type": "code",
   "execution_count": 103,
   "id": "df1d78de",
   "metadata": {},
   "outputs": [
    {
     "ename": "ZeroDivisionError",
     "evalue": "division by zero",
     "output_type": "error",
     "traceback": [
      "\u001b[1;31m---------------------------------------------------------------------------\u001b[0m",
      "\u001b[1;31mZeroDivisionError\u001b[0m                         Traceback (most recent call last)",
      "Cell \u001b[1;32mIn[103], line 1\u001b[0m\n\u001b[1;32m----> 1\u001b[0m \u001b[38;5;28;43;01mTrue\u001b[39;49;00m\u001b[38;5;241;43m/\u001b[39;49m\u001b[38;5;28;43;01mFalse\u001b[39;49;00m\n",
      "\u001b[1;31mZeroDivisionError\u001b[0m: division by zero"
     ]
    }
   ],
   "source": [
    "True/False"
   ]
  },
  {
   "cell_type": "code",
   "execution_count": 104,
   "id": "e2f6b818",
   "metadata": {},
   "outputs": [
    {
     "data": {
      "text/plain": [
       "float"
      ]
     },
     "execution_count": 104,
     "metadata": {},
     "output_type": "execute_result"
    }
   ],
   "source": [
    "pi=3.14\n",
    "pi\n",
    "type(pi)"
   ]
  },
  {
   "cell_type": "code",
   "execution_count": 105,
   "id": "74cdc52b",
   "metadata": {},
   "outputs": [
    {
     "data": {
      "text/plain": [
       "3.17"
      ]
     },
     "execution_count": 105,
     "metadata": {},
     "output_type": "execute_result"
    }
   ],
   "source": [
    "pi=3.17 #no constant are in python\n",
    "pi"
   ]
  },
  {
   "cell_type": "markdown",
   "id": "383c6ad9",
   "metadata": {},
   "source": [
    "# str datatypes -\n",
    "enclosed in '' (single quote) // \"\" (double quote)\n",
    "singa line we assined as '' // \"\"\n",
    "multiline we assigned as (\"' \"')\n",
    "single & double quotes are allowed only for single line\n",
    "triple quotes are allowed for multi comments & also you can declare triple quotes in single line as well(\"\"\"//\"\"\")/('''//''')"
   ]
  },
  {
   "cell_type": "code",
   "execution_count": 106,
   "id": "d7d8175e",
   "metadata": {},
   "outputs": [
    {
     "data": {
      "text/plain": [
       "'good for data science'"
      ]
     },
     "execution_count": 106,
     "metadata": {},
     "output_type": "execute_result"
    }
   ],
   "source": [
    "naresh='good for data science'\n",
    "naresh"
   ]
  },
  {
   "cell_type": "code",
   "execution_count": 107,
   "id": "6f6fd407",
   "metadata": {},
   "outputs": [
    {
     "data": {
      "text/plain": [
       "'good for data science'"
      ]
     },
     "execution_count": 107,
     "metadata": {},
     "output_type": "execute_result"
    }
   ],
   "source": [
    "naresh='''good for data science'''\n",
    "naresh"
   ]
  },
  {
   "cell_type": "code",
   "execution_count": 108,
   "id": "9dc98c28",
   "metadata": {},
   "outputs": [
    {
     "data": {
      "text/plain": [
       "str"
      ]
     },
     "execution_count": 108,
     "metadata": {},
     "output_type": "execute_result"
    }
   ],
   "source": [
    "type(naresh)"
   ]
  },
  {
   "cell_type": "code",
   "execution_count": 109,
   "id": "92c1b021",
   "metadata": {},
   "outputs": [
    {
     "data": {
      "text/plain": [
       "'good for data science'"
      ]
     },
     "execution_count": 109,
     "metadata": {},
     "output_type": "execute_result"
    }
   ],
   "source": [
    "naresh2='''good for data science'''\n",
    "naresh2"
   ]
  },
  {
   "cell_type": "code",
   "execution_count": 110,
   "id": "447e97ed",
   "metadata": {},
   "outputs": [
    {
     "data": {
      "text/plain": [
       "str"
      ]
     },
     "execution_count": 110,
     "metadata": {},
     "output_type": "execute_result"
    }
   ],
   "source": [
    "type(naresh2)"
   ]
  },
  {
   "cell_type": "code",
   "execution_count": 111,
   "id": "6ce09456",
   "metadata": {},
   "outputs": [
    {
     "data": {
      "text/plain": [
       "'this a practice\\nof task 2'"
      ]
     },
     "execution_count": 111,
     "metadata": {},
     "output_type": "execute_result"
    }
   ],
   "source": [
    "e01=\"\"\"this a practice\n",
    "of task 2\"\"\"\n",
    "e01"
   ]
  },
  {
   "cell_type": "markdown",
   "id": "fac29e0e",
   "metadata": {},
   "source": [
    "# Type Conversions\n",
    "int()--bool()--complex--float()--str()"
   ]
  },
  {
   "cell_type": "markdown",
   "id": "681227dd",
   "metadata": {},
   "source": [
    "## int to other data types\n",
    "int(): - you can convert from other type to int type except complex "
   ]
  },
  {
   "cell_type": "code",
   "execution_count": 112,
   "id": "c6a74a08",
   "metadata": {},
   "outputs": [
    {
     "data": {
      "text/plain": [
       "10"
      ]
     },
     "execution_count": 112,
     "metadata": {},
     "output_type": "execute_result"
    }
   ],
   "source": [
    "int(10.123)"
   ]
  },
  {
   "cell_type": "code",
   "execution_count": 113,
   "id": "27d3b670",
   "metadata": {},
   "outputs": [
    {
     "ename": "TypeError",
     "evalue": "int() argument must be a string, a bytes-like object or a real number, not 'complex'",
     "output_type": "error",
     "traceback": [
      "\u001b[1;31m---------------------------------------------------------------------------\u001b[0m",
      "\u001b[1;31mTypeError\u001b[0m                                 Traceback (most recent call last)",
      "Cell \u001b[1;32mIn[113], line 1\u001b[0m\n\u001b[1;32m----> 1\u001b[0m \u001b[38;5;28;43mint\u001b[39;49m\u001b[43m(\u001b[49m\u001b[38;5;241;43m10\u001b[39;49m\u001b[38;5;241;43m+\u001b[39;49m\u001b[38;5;241;43m20\u001b[39;49m\u001b[43mj\u001b[49m\u001b[43m)\u001b[49m\n",
      "\u001b[1;31mTypeError\u001b[0m: int() argument must be a string, a bytes-like object or a real number, not 'complex'"
     ]
    }
   ],
   "source": [
    "int(10+20j)"
   ]
  },
  {
   "cell_type": "code",
   "execution_count": 114,
   "id": "45ff52fb",
   "metadata": {},
   "outputs": [
    {
     "data": {
      "text/plain": [
       "1"
      ]
     },
     "execution_count": 114,
     "metadata": {},
     "output_type": "execute_result"
    }
   ],
   "source": [
    "int(True)"
   ]
  },
  {
   "cell_type": "code",
   "execution_count": 115,
   "id": "e13ba321",
   "metadata": {},
   "outputs": [
    {
     "data": {
      "text/plain": [
       "0"
      ]
     },
     "execution_count": 115,
     "metadata": {},
     "output_type": "execute_result"
    }
   ],
   "source": [
    "int(False)"
   ]
  },
  {
   "cell_type": "code",
   "execution_count": 116,
   "id": "76ee4eea",
   "metadata": {},
   "outputs": [
    {
     "data": {
      "text/plain": [
       "10"
      ]
     },
     "execution_count": 116,
     "metadata": {},
     "output_type": "execute_result"
    }
   ],
   "source": [
    "int('10')"
   ]
  },
  {
   "cell_type": "code",
   "execution_count": 117,
   "id": "2a7525eb",
   "metadata": {},
   "outputs": [
    {
     "ename": "ValueError",
     "evalue": "invalid literal for int() with base 10: 'ten'",
     "output_type": "error",
     "traceback": [
      "\u001b[1;31m---------------------------------------------------------------------------\u001b[0m",
      "\u001b[1;31mValueError\u001b[0m                                Traceback (most recent call last)",
      "Cell \u001b[1;32mIn[117], line 1\u001b[0m\n\u001b[1;32m----> 1\u001b[0m \u001b[38;5;28;43mint\u001b[39;49m\u001b[43m(\u001b[49m\u001b[38;5;124;43m'\u001b[39;49m\u001b[38;5;124;43mten\u001b[39;49m\u001b[38;5;124;43m'\u001b[39;49m\u001b[43m)\u001b[49m\n",
      "\u001b[1;31mValueError\u001b[0m: invalid literal for int() with base 10: 'ten'"
     ]
    }
   ],
   "source": [
    "int('ten')"
   ]
  },
  {
   "cell_type": "markdown",
   "id": "f4e4b54e",
   "metadata": {},
   "source": [
    "# float() to other data types\n",
    "float(): -- convert from any type to float except complex"
   ]
  },
  {
   "cell_type": "code",
   "execution_count": 118,
   "id": "f63a65f0",
   "metadata": {},
   "outputs": [
    {
     "data": {
      "text/plain": [
       "10.0"
      ]
     },
     "execution_count": 118,
     "metadata": {},
     "output_type": "execute_result"
    }
   ],
   "source": [
    "float(10)"
   ]
  },
  {
   "cell_type": "code",
   "execution_count": 119,
   "id": "ddad5979",
   "metadata": {},
   "outputs": [
    {
     "ename": "TypeError",
     "evalue": "float() argument must be a string or a real number, not 'complex'",
     "output_type": "error",
     "traceback": [
      "\u001b[1;31m---------------------------------------------------------------------------\u001b[0m",
      "\u001b[1;31mTypeError\u001b[0m                                 Traceback (most recent call last)",
      "Cell \u001b[1;32mIn[119], line 1\u001b[0m\n\u001b[1;32m----> 1\u001b[0m \u001b[38;5;28;43mfloat\u001b[39;49m\u001b[43m(\u001b[49m\u001b[38;5;241;43m10\u001b[39;49m\u001b[38;5;241;43m+\u001b[39;49m\u001b[38;5;241;43m20\u001b[39;49m\u001b[43mj\u001b[49m\u001b[43m)\u001b[49m\n",
      "\u001b[1;31mTypeError\u001b[0m: float() argument must be a string or a real number, not 'complex'"
     ]
    }
   ],
   "source": [
    "float(10+20j)"
   ]
  },
  {
   "cell_type": "code",
   "execution_count": 120,
   "id": "e8c365c6",
   "metadata": {},
   "outputs": [
    {
     "data": {
      "text/plain": [
       "0.0"
      ]
     },
     "execution_count": 120,
     "metadata": {},
     "output_type": "execute_result"
    }
   ],
   "source": [
    "float(False)"
   ]
  },
  {
   "cell_type": "code",
   "execution_count": 121,
   "id": "c8a1edb0",
   "metadata": {},
   "outputs": [
    {
     "data": {
      "text/plain": [
       "1.0"
      ]
     },
     "execution_count": 121,
     "metadata": {},
     "output_type": "execute_result"
    }
   ],
   "source": [
    "float(True)"
   ]
  },
  {
   "cell_type": "code",
   "execution_count": 122,
   "id": "8f8f180c",
   "metadata": {},
   "outputs": [
    {
     "data": {
      "text/plain": [
       "10.0"
      ]
     },
     "execution_count": 122,
     "metadata": {},
     "output_type": "execute_result"
    }
   ],
   "source": [
    "float('10')"
   ]
  },
  {
   "cell_type": "markdown",
   "id": "1eeec71d",
   "metadata": {},
   "source": [
    "# complex to other types\n",
    "complex(): -- covert any other type to complex type\n",
    "--- this only for 1 argument ------\n"
   ]
  },
  {
   "cell_type": "code",
   "execution_count": 123,
   "id": "7069eb97",
   "metadata": {},
   "outputs": [
    {
     "data": {
      "text/plain": [
       "(10+0j)"
      ]
     },
     "execution_count": 123,
     "metadata": {},
     "output_type": "execute_result"
    }
   ],
   "source": [
    "complex(10)"
   ]
  },
  {
   "cell_type": "code",
   "execution_count": 124,
   "id": "da4955c0",
   "metadata": {},
   "outputs": [
    {
     "data": {
      "text/plain": [
       "(10.5+0j)"
      ]
     },
     "execution_count": 124,
     "metadata": {},
     "output_type": "execute_result"
    }
   ],
   "source": [
    "complex(10.5)"
   ]
  },
  {
   "cell_type": "code",
   "execution_count": 125,
   "id": "46efabf8",
   "metadata": {},
   "outputs": [
    {
     "data": {
      "text/plain": [
       "(1+0j)"
      ]
     },
     "execution_count": 125,
     "metadata": {},
     "output_type": "execute_result"
    }
   ],
   "source": [
    "complex(True)"
   ]
  },
  {
   "cell_type": "code",
   "execution_count": 126,
   "id": "75a54893",
   "metadata": {},
   "outputs": [
    {
     "data": {
      "text/plain": [
       "0j"
      ]
     },
     "execution_count": 126,
     "metadata": {},
     "output_type": "execute_result"
    }
   ],
   "source": [
    "complex(False)"
   ]
  },
  {
   "cell_type": "code",
   "execution_count": 127,
   "id": "58c28011",
   "metadata": {},
   "outputs": [
    {
     "data": {
      "text/plain": [
       "(10+0j)"
      ]
     },
     "execution_count": 127,
     "metadata": {},
     "output_type": "execute_result"
    }
   ],
   "source": [
    "complex('10')"
   ]
  },
  {
   "cell_type": "code",
   "execution_count": 128,
   "id": "0fda47b4",
   "metadata": {},
   "outputs": [
    {
     "data": {
      "text/plain": [
       "(10+20j)"
      ]
     },
     "execution_count": 128,
     "metadata": {},
     "output_type": "execute_result"
    }
   ],
   "source": [
    "#with to arguments\n",
    "complex(10,20)"
   ]
  },
  {
   "cell_type": "code",
   "execution_count": 129,
   "id": "270cf8c0",
   "metadata": {},
   "outputs": [
    {
     "data": {
      "text/plain": [
       "(10+20.5j)"
      ]
     },
     "execution_count": 129,
     "metadata": {},
     "output_type": "execute_result"
    }
   ],
   "source": [
    "complex(10,20.5)"
   ]
  },
  {
   "cell_type": "code",
   "execution_count": 130,
   "id": "194700b5",
   "metadata": {},
   "outputs": [
    {
     "data": {
      "text/plain": [
       "(10+0j)"
      ]
     },
     "execution_count": 130,
     "metadata": {},
     "output_type": "execute_result"
    }
   ],
   "source": [
    "complex('10')"
   ]
  },
  {
   "cell_type": "markdown",
   "id": "b495da55",
   "metadata": {},
   "source": [
    "# bool to other conversions\n",
    "Bool()  - (0 means false // 1 means non zero)\n"
   ]
  },
  {
   "cell_type": "code",
   "execution_count": 131,
   "id": "70ddf46e",
   "metadata": {},
   "outputs": [
    {
     "data": {
      "text/plain": [
       "False"
      ]
     },
     "execution_count": 131,
     "metadata": {},
     "output_type": "execute_result"
    }
   ],
   "source": [
    "bool(0)"
   ]
  },
  {
   "cell_type": "code",
   "execution_count": 132,
   "id": "4d938200",
   "metadata": {},
   "outputs": [
    {
     "data": {
      "text/plain": [
       "True"
      ]
     },
     "execution_count": 132,
     "metadata": {},
     "output_type": "execute_result"
    }
   ],
   "source": [
    "bool(-10)"
   ]
  },
  {
   "cell_type": "code",
   "execution_count": 133,
   "id": "3d878f4c",
   "metadata": {},
   "outputs": [
    {
     "data": {
      "text/plain": [
       "False"
      ]
     },
     "execution_count": 133,
     "metadata": {},
     "output_type": "execute_result"
    }
   ],
   "source": [
    "bool(0.0)"
   ]
  },
  {
   "cell_type": "code",
   "execution_count": 134,
   "id": "37dd24d0",
   "metadata": {},
   "outputs": [
    {
     "data": {
      "text/plain": [
       "True"
      ]
     },
     "execution_count": 134,
     "metadata": {},
     "output_type": "execute_result"
    }
   ],
   "source": [
    "bool(10+20j)"
   ]
  },
  {
   "cell_type": "code",
   "execution_count": 135,
   "id": "6805f3fa",
   "metadata": {},
   "outputs": [
    {
     "data": {
      "text/plain": [
       "True"
      ]
     },
     "execution_count": 135,
     "metadata": {},
     "output_type": "execute_result"
    }
   ],
   "source": [
    "bool(0+10j)"
   ]
  },
  {
   "cell_type": "code",
   "execution_count": 136,
   "id": "886523a8",
   "metadata": {},
   "outputs": [
    {
     "data": {
      "text/plain": [
       "True"
      ]
     },
     "execution_count": 136,
     "metadata": {},
     "output_type": "execute_result"
    }
   ],
   "source": [
    "bool(\" \")"
   ]
  },
  {
   "cell_type": "code",
   "execution_count": 137,
   "id": "7cb50b1a",
   "metadata": {},
   "outputs": [
    {
     "data": {
      "text/plain": [
       "True"
      ]
     },
     "execution_count": 137,
     "metadata": {},
     "output_type": "execute_result"
    }
   ],
   "source": [
    "bool('abc')"
   ]
  },
  {
   "cell_type": "code",
   "execution_count": 138,
   "id": "b00f16a8",
   "metadata": {},
   "outputs": [
    {
     "data": {
      "text/plain": [
       "True"
      ]
     },
     "execution_count": 138,
     "metadata": {},
     "output_type": "execute_result"
    }
   ],
   "source": [
    "bool(' ')"
   ]
  },
  {
   "cell_type": "markdown",
   "id": "531a377b",
   "metadata": {},
   "source": [
    "# str to other types\n",
    "# str(): --- any type is possible in string "
   ]
  },
  {
   "cell_type": "code",
   "execution_count": 139,
   "id": "88c3dff7",
   "metadata": {},
   "outputs": [
    {
     "data": {
      "text/plain": [
       "'10'"
      ]
     },
     "execution_count": 139,
     "metadata": {},
     "output_type": "execute_result"
    }
   ],
   "source": [
    "str(10)"
   ]
  },
  {
   "cell_type": "code",
   "execution_count": 140,
   "id": "ffe5de58",
   "metadata": {},
   "outputs": [
    {
     "data": {
      "text/plain": [
       "'10.5'"
      ]
     },
     "execution_count": 140,
     "metadata": {},
     "output_type": "execute_result"
    }
   ],
   "source": [
    "str('10.5')"
   ]
  },
  {
   "cell_type": "code",
   "execution_count": 141,
   "id": "cbf36469",
   "metadata": {},
   "outputs": [
    {
     "data": {
      "text/plain": [
       "'True'"
      ]
     },
     "execution_count": 141,
     "metadata": {},
     "output_type": "execute_result"
    }
   ],
   "source": [
    "str('True')"
   ]
  },
  {
   "cell_type": "code",
   "execution_count": 142,
   "id": "2eef8258",
   "metadata": {},
   "outputs": [
    {
     "data": {
      "text/plain": [
       "'(10+20j)'"
      ]
     },
     "execution_count": 142,
     "metadata": {},
     "output_type": "execute_result"
    }
   ],
   "source": [
    "str(10+20j)"
   ]
  },
  {
   "cell_type": "markdown",
   "id": "aad3a685",
   "metadata": {},
   "source": [
    "Fundamental Datatypes are which we covered so far & also we saw how to work on the type casting from one data type to other -\n",
    "We cannot convert our complex data types to int and float\n",
    "\n",
    "int() float() complex() bool() str()"
   ]
  },
  {
   "cell_type": "markdown",
   "id": "3148a0f1",
   "metadata": {},
   "source": [
    "# Fundamental datatypes vs Immutability --\n",
    "All fundamental datatypes are immutable. what is immutable - once we crate the object we are not allow to perform any changes in that object . we can say that (non-changeable behaviour)\n",
    "why immutability concept is required -- if you look at below exampl - how many object we created only 1 object which is 10 but how many reference we assinged -- 3 reference indicates to 1 object\n",
    "bigest advantage of this approch is memory utilization & performance is also improved (pvm do not want to wsat memory)\n",
    "you can create object with different name, but you cannot create object with same name"
   ]
  },
  {
   "cell_type": "code",
   "execution_count": 143,
   "id": "101ef16d",
   "metadata": {},
   "outputs": [
    {
     "name": "stdout",
     "output_type": "stream",
     "text": [
      "2100022608400\n",
      "2100022608400\n",
      "2100022608400\n"
     ]
    }
   ],
   "source": [
    "x2=10\n",
    "y2=10\n",
    "z2=10\n",
    "print(id(x2))\n",
    "print(id(y2))\n",
    "print(id(z2))"
   ]
  },
  {
   "cell_type": "markdown",
   "id": "6be7f119",
   "metadata": {},
   "source": [
    "# Mutable -- Changeable-- once you create an object\n",
    "Immutable -- Non-changeable\n",
    "Fundamental data types are IMMUTABLE but (LIST is mutable)\n",
    "Everything in python is an object\n",
    "**This concept reusing same object such type of concept is define following ranges - 1> int ----> 0 to 256 2> bool ---> Always 3> str ----> Always 4> float & complex ----> Can not performe the reusable concept"
   ]
  },
  {
   "cell_type": "code",
   "execution_count": 144,
   "id": "3a84ffec",
   "metadata": {},
   "outputs": [
    {
     "name": "stdout",
     "output_type": "stream",
     "text": [
      "2100022608400\n",
      "2100022608720\n"
     ]
    }
   ],
   "source": [
    "x=10\n",
    "y=20\n",
    "print(id(x))\n",
    "print(id(y))"
   ]
  },
  {
   "cell_type": "code",
   "execution_count": 145,
   "id": "c70bf468",
   "metadata": {},
   "outputs": [],
   "source": [
    "# is operator"
   ]
  },
  {
   "cell_type": "code",
   "execution_count": 146,
   "id": "9a1c509b",
   "metadata": {},
   "outputs": [
    {
     "data": {
      "text/plain": [
       "False"
      ]
     },
     "execution_count": 146,
     "metadata": {},
     "output_type": "execute_result"
    }
   ],
   "source": [
    "x=True\n",
    "y=True\n",
    "z=False\n",
    "x is y\n",
    "y is z\n",
    "z is x\n",
    "z is y"
   ]
  }
 ],
 "metadata": {
  "kernelspec": {
   "display_name": "Python 3 (ipykernel)",
   "language": "python",
   "name": "python3"
  },
  "language_info": {
   "codemirror_mode": {
    "name": "ipython",
    "version": 3
   },
   "file_extension": ".py",
   "mimetype": "text/x-python",
   "name": "python",
   "nbconvert_exporter": "python",
   "pygments_lexer": "ipython3",
   "version": "3.10.9"
  }
 },
 "nbformat": 4,
 "nbformat_minor": 5
}
